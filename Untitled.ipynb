{
 "cells": [
  {
   "cell_type": "code",
   "execution_count": 2,
   "id": "6a5e6c2d-7bd9-4dad-9784-f1c4a6aa1812",
   "metadata": {},
   "outputs": [
    {
     "name": "stdout",
     "output_type": "stream",
     "text": [
      "hello world in codespaces\n"
     ]
    }
   ],
   "source": [
    "print ('hello world in codespaces')\n"
   ]
  },
  {
   "cell_type": "code",
   "execution_count": null,
   "id": "7d6dfb4a-939c-4d30-9982-4a79c75df71e",
   "metadata": {},
   "outputs": [],
   "source": []
  }
 ],
 "metadata": {
  "kernelspec": {
   "display_name": "Python 3 (ipykernel)",
   "language": "python",
   "name": "python3"
  },
  "language_info": {
   "codemirror_mode": {
    "name": "ipython",
    "version": 3
   },
   "file_extension": ".py",
   "mimetype": "text/x-python",
   "name": "python",
   "nbconvert_exporter": "python",
   "pygments_lexer": "ipython3",
   "version": "3.10.13"
  }
 },
 "nbformat": 4,
 "nbformat_minor": 5
}
