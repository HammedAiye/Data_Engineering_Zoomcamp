{
 "cells": [
  {
   "cell_type": "code",
   "execution_count": 2,
   "id": "dae719f9-8e33-456b-bfb8-de88057c7461",
   "metadata": {},
   "outputs": [
    {
     "name": "stdout",
     "output_type": "stream",
     "text": [
      "hello world in codespace\n"
     ]
    }
   ],
   "source": [
    "print('hello world in codespace')"
   ]
  },
  {
   "cell_type": "code",
   "execution_count": null,
   "id": "d087d147-44f0-4ff2-baa1-c4bc3f867676",
   "metadata": {},
   "outputs": [],
   "source": []
  }
 ],
 "metadata": {
  "kernelspec": {
   "display_name": "Python 3 (ipykernel)",
   "language": "python",
   "name": "python3"
  },
  "language_info": {
   "codemirror_mode": {
    "name": "ipython",
    "version": 3
   },
   "file_extension": ".py",
   "mimetype": "text/x-python",
   "name": "python",
   "nbconvert_exporter": "python",
   "pygments_lexer": "ipython3",
   "version": "3.10.13"
  }
 },
 "nbformat": 4,
 "nbformat_minor": 5
}
